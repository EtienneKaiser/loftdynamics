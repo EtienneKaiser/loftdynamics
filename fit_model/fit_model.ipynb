{
 "cells": [
  {
   "cell_type": "code",
   "execution_count": 75,
   "metadata": {},
   "outputs": [],
   "source": [
    "from importlib import reload\n",
    "import model_functions\n",
    "reload(model_functions)\n",
    "from model_functions import fit_linear_model, plot_ground_heigth\n",
    "import os\n",
    "import pandas as pd"
   ]
  },
  {
   "cell_type": "markdown",
   "metadata": {},
   "source": [
    "# 1. Visualize preprocessed flight data"
   ]
  },
  {
   "cell_type": "code",
   "execution_count": 77,
   "metadata": {},
   "outputs": [
    {
     "name": "stdout",
     "output_type": "stream",
     "text": [
      "                                               117182271   156875280   \\\n",
      "TimeStamp                        FrameCounter                           \n",
      "2024-02-14 12:47:29.886827+00:00 0               5.415954       False   \n",
      "2024-02-14 12:47:29.910267+00:00 1               5.415954       False   \n",
      "2024-02-14 12:47:32.473459+00:00 2               5.415953       False   \n",
      "2024-02-14 12:47:32.495396+00:00 3               5.415953       False   \n",
      "2024-02-14 12:47:32.527699+00:00 4               5.415953       False   \n",
      "\n",
      "                                               381802901   513685691   \\\n",
      "TimeStamp                        FrameCounter                           \n",
      "2024-02-14 12:47:29.886827+00:00 0                    1.0  510.103186   \n",
      "2024-02-14 12:47:29.910267+00:00 1                    1.0  510.103186   \n",
      "2024-02-14 12:47:32.473459+00:00 2                    1.0  510.183071   \n",
      "2024-02-14 12:47:32.495396+00:00 3                    1.0  510.183071   \n",
      "2024-02-14 12:47:32.527699+00:00 4                    1.0  510.183071   \n",
      "\n",
      "                                               614270119   637219977   \\\n",
      "TimeStamp                        FrameCounter                           \n",
      "2024-02-14 12:47:29.886827+00:00 0               0.000004  510.710970   \n",
      "2024-02-14 12:47:29.910267+00:00 1               0.000004  510.710970   \n",
      "2024-02-14 12:47:32.473459+00:00 2               0.000000  510.791105   \n",
      "2024-02-14 12:47:32.495396+00:00 3               0.000000  510.791105   \n",
      "2024-02-14 12:47:32.527699+00:00 4               0.000000  510.791105   \n",
      "\n",
      "                                               638103778           677695791   \\\n",
      "TimeStamp                        FrameCounter                                   \n",
      "2024-02-14 12:47:29.886827+00:00 0              -0.000000  Basic Autorotation   \n",
      "2024-02-14 12:47:29.910267+00:00 1              -0.000000  Basic Autorotation   \n",
      "2024-02-14 12:47:32.473459+00:00 2               0.009024  Basic Autorotation   \n",
      "2024-02-14 12:47:32.495396+00:00 3               0.002822  Basic Autorotation   \n",
      "2024-02-14 12:47:32.527699+00:00 4              -0.008267  Basic Autorotation   \n",
      "\n",
      "                                               683679735   705547489   ...  \\\n",
      "TimeStamp                        FrameCounter                          ...   \n",
      "2024-02-14 12:47:29.886827+00:00 0                   True         0.0  ...   \n",
      "2024-02-14 12:47:29.910267+00:00 1                   True         0.0  ...   \n",
      "2024-02-14 12:47:32.473459+00:00 2                   True         0.0  ...   \n",
      "2024-02-14 12:47:32.495396+00:00 3                   True         0.0  ...   \n",
      "2024-02-14 12:47:32.527699+00:00 4                   True         0.0  ...   \n",
      "\n",
      "                                                                                      3966668421  \\\n",
      "TimeStamp                        FrameCounter                                                      \n",
      "2024-02-14 12:47:29.886827+00:00 0             [-0.18597403572503524, 0.0040404488882832545, ...   \n",
      "2024-02-14 12:47:29.910267+00:00 1             [-0.18597403572503524, 0.0040404488882832545, ...   \n",
      "2024-02-14 12:47:32.473459+00:00 2             [-0.19558027247895726, 0.004040448300897115, 9...   \n",
      "2024-02-14 12:47:32.495396+00:00 3             [-0.19557988469993237, 0.0040404491609793425, ...   \n",
      "2024-02-14 12:47:32.527699+00:00 4             [-0.19557988469993237, 0.0040404491609793425, ...   \n",
      "\n",
      "                                               3981973171    4021288050  \\\n",
      "TimeStamp                        FrameCounter                             \n",
      "2024-02-14 12:47:29.886827+00:00 0                  400.0  3.689239e+05   \n",
      "2024-02-14 12:47:29.910267+00:00 1                  400.0  3.689239e+05   \n",
      "2024-02-14 12:47:32.473459+00:00 2                  400.0  4.000000e+06   \n",
      "2024-02-14 12:47:32.495396+00:00 3                  400.0  4.000000e+06   \n",
      "2024-02-14 12:47:32.527699+00:00 4                  400.0  4.000000e+06   \n",
      "\n",
      "                                               4054750327  4056189073  \\\n",
      "TimeStamp                        FrameCounter                           \n",
      "2024-02-14 12:47:29.886827+00:00 0             392.056424  284.834329   \n",
      "2024-02-14 12:47:29.910267+00:00 1             392.056424  284.834329   \n",
      "2024-02-14 12:47:32.473459+00:00 2             381.718000  284.833810   \n",
      "2024-02-14 12:47:32.495396+00:00 3             381.718000  284.833810   \n",
      "2024-02-14 12:47:32.527699+00:00 4             399.580000  284.833810   \n",
      "\n",
      "                                                                                      4058842283  \\\n",
      "TimeStamp                        FrameCounter                                                      \n",
      "2024-02-14 12:47:29.886827+00:00 0             [0.9999988627358279, 0.00066107348489735, 0.00...   \n",
      "2024-02-14 12:47:29.910267+00:00 1             [0.9999995484501909, 0.0006846642711868748, 0....   \n",
      "2024-02-14 12:47:32.473459+00:00 2             [0.9999993486835694, 0.0008722210174957517, -0...   \n",
      "2024-02-14 12:47:32.495396+00:00 3             [0.9999993486835694, 0.0008722210174957517, -0...   \n",
      "2024-02-14 12:47:32.527699+00:00 4             [0.9999993486835694, 0.0008722210174957517, -0...   \n",
      "\n",
      "                                               4061964072  4066202059  \\\n",
      "TimeStamp                        FrameCounter                           \n",
      "2024-02-14 12:47:29.886827+00:00 0                    1.0    0.955034   \n",
      "2024-02-14 12:47:29.910267+00:00 1                    1.0    0.955034   \n",
      "2024-02-14 12:47:32.473459+00:00 2                    1.0    0.947214   \n",
      "2024-02-14 12:47:32.495396+00:00 3                    1.0    0.945259   \n",
      "2024-02-14 12:47:32.527699+00:00 4                    1.0    0.947214   \n",
      "\n",
      "                                               4247030081  \\\n",
      "TimeStamp                        FrameCounter               \n",
      "2024-02-14 12:47:29.886827+00:00 0               0.001045   \n",
      "2024-02-14 12:47:29.910267+00:00 1               0.001045   \n",
      "2024-02-14 12:47:32.473459+00:00 2               0.000000   \n",
      "2024-02-14 12:47:32.495396+00:00 3               0.000000   \n",
      "2024-02-14 12:47:32.527699+00:00 4               0.000000   \n",
      "\n",
      "                                                                                  4264003232  \n",
      "TimeStamp                        FrameCounter                                                 \n",
      "2024-02-14 12:47:29.886827+00:00 0             [1.0, 0.8533724340175953, 0.9990224828934506]  \n",
      "2024-02-14 12:47:29.910267+00:00 1             [1.0, 0.8533724340175953, 0.9990224828934506]  \n",
      "2024-02-14 12:47:32.473459+00:00 2             [1.0, 0.8533724340175953, 0.9990224828934506]  \n",
      "2024-02-14 12:47:32.495396+00:00 3             [1.0, 0.8533724340175953, 0.9990224828934506]  \n",
      "2024-02-14 12:47:32.527699+00:00 4             [1.0, 0.8533724340175953, 0.9990224828934506]  \n",
      "\n",
      "[5 rows x 92 columns]\n"
     ]
    }
   ],
   "source": [
    "data_dir = \"test_data\"\n",
    "flight_id = '0b3f3902-2c04-4625-8576-3bb963e3d709'\n",
    "\n",
    "parquet_path = os.path.join('..', 'data_process', data_dir, f\"{flight_id}.parquet\")\n",
    "\n",
    "df = pd.read_parquet(parquet_path)\n",
    "\n",
    "#df.info()\n",
    "print(df.head())"
   ]
  },
  {
   "cell_type": "code",
   "execution_count": 78,
   "metadata": {},
   "outputs": [
    {
     "name": "stdout",
     "output_type": "stream",
     "text": [
      "Index([ 117182271,  156875280,  381802901,  513685691,  614270119,  637219977,\n",
      "        638103778,  677695791,  683679735,  705547489,  731865654,  738096043,\n",
      "        754202368,  786775081,  853651284,  855504072,  943710121, 1049384201,\n",
      "       1049691088, 1089322549, 1269872157, 1289350632, 1308053202, 1324901455,\n",
      "       1359970420, 1450782446, 1464341275, 1464691036, 1501357761, 1553784294,\n",
      "       1556708778, 1666704728, 1796138214, 1847367549, 1879505128, 1895873384,\n",
      "       1909389254, 1984892607, 2074986628, 2142867155, 2275361864, 2338387453,\n",
      "       2370500633, 2400822283, 2457184866, 2496586604, 2498379844, 2524343919,\n",
      "       2545498036, 2546226082, 2590494337, 2663217327, 2700477795, 2705846059,\n",
      "       2716830861, 2769157819, 2876656444, 2936255604, 2942017749, 2979223644,\n",
      "       3063191758, 3066527403, 3207956524, 3296928681, 3298276793, 3327788219,\n",
      "       3335916359, 3355805873, 3358452658, 3410338846, 3502630583, 3590140009,\n",
      "       3599019297, 3599416138, 3659998070, 3687766012, 3771464240, 3871827618,\n",
      "       3881043328, 3917330120, 3928845979, 3933014103, 3966668421, 3981973171,\n",
      "       4021288050, 4054750327, 4056189073, 4058842283, 4061964072, 4066202059,\n",
      "       4247030081, 4264003232],\n",
      "      dtype='int64')\n",
      "MultiIndex([('2024-02-14 12:47:29.886827+00:00',      0),\n",
      "            ('2024-02-14 12:47:29.910267+00:00',      1),\n",
      "            ('2024-02-14 12:47:32.473459+00:00',      2),\n",
      "            ('2024-02-14 12:47:32.495396+00:00',      3),\n",
      "            ('2024-02-14 12:47:32.527699+00:00',      4),\n",
      "            ('2024-02-14 12:47:32.551045+00:00',      5),\n",
      "            ('2024-02-14 12:47:32.607182+00:00',      6),\n",
      "            ('2024-02-14 12:47:32.660899+00:00',      7),\n",
      "            ('2024-02-14 12:47:32.716342+00:00',      8),\n",
      "            ('2024-02-14 12:47:32.773738+00:00',      9),\n",
      "            ...\n",
      "            ('2024-02-14 13:04:46.156444+00:00', 247774),\n",
      "            ('2024-02-14 13:04:46.167901+00:00', 247775),\n",
      "            ('2024-02-14 13:04:46.178683+00:00', 247776),\n",
      "            ('2024-02-14 13:04:46.189581+00:00', 247777),\n",
      "            ('2024-02-14 13:04:46.201161+00:00', 247778),\n",
      "            ('2024-02-14 13:04:46.212103+00:00', 247779),\n",
      "            ('2024-02-14 13:04:46.223841+00:00', 247780),\n",
      "            ('2024-02-14 13:04:46.234279+00:00', 247781),\n",
      "            ('2024-02-14 13:04:46.245188+00:00', 247782),\n",
      "            ('2024-02-14 13:04:46.256514+00:00', 247783)],\n",
      "           names=['TimeStamp', 'FrameCounter'], length=181932)\n"
     ]
    }
   ],
   "source": [
    "print(df.columns)\n",
    "print(df.index)"
   ]
  },
  {
   "cell_type": "code",
   "execution_count": 79,
   "metadata": {},
   "outputs": [
    {
     "data": {
      "image/png": "[encoded data removed]",
      "text/plain": [
       "<Figure size 640x480 with 1 Axes>"
      ]
     },
     "metadata": {},
     "output_type": "display_data"
    }
   ],
   "source": [
    "plot_ground_heigth(df)"
   ]
  },
  {
   "cell_type": "markdown",
   "metadata": {},
   "source": [
    "# 2. Add Label to data"
   ]
  },
  {
   "cell_type": "code",
   "execution_count": null,
   "metadata": {},
   "outputs": [],
   "source": [
    "#TODO add foreach timestamp in range of csv the expected label at the end\n",
    "# apply time-series modifications\n",
    "# define a linear model\n",
    "# fit lasso\n",
    "# remove unneeded values as a result of fitting a lasso model\n",
    "# k-fold"
   ]
  }
 ],
 "metadata": {
  "kernelspec": {
   "display_name": "Python 3",
   "language": "python",
   "name": "python3"
  },
  "language_info": {
   "codemirror_mode": {
    "name": "ipython",
    "version": 3
   },
   "file_extension": ".py",
   "mimetype": "text/x-python",
   "name": "python",
   "nbconvert_exporter": "python",
   "pygments_lexer": "ipython3",
   "version": "3.12.6"
  }
 },
 "nbformat": 4,
 "nbformat_minor": 2
}
